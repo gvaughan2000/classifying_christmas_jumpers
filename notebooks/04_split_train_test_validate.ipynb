{
 "cells": [
  {
   "cell_type": "code",
   "execution_count": 1,
   "id": "ff4ceefb",
   "metadata": {},
   "outputs": [],
   "source": [
    "import python_splitter\n",
    "from pathlib import Path\n",
    "\n",
    "data_dir = Path(\"..\", \"data\", \"4_black_and_white\")"
   ]
  },
  {
   "cell_type": "code",
   "execution_count": 2,
   "id": "9723086c",
   "metadata": {},
   "outputs": [],
   "source": [
    "# Note: This will save the folders into the current directory (eg. in the notebooks folder)"
   ]
  },
  {
   "cell_type": "code",
   "execution_count": 3,
   "id": "6a7ff836",
   "metadata": {},
   "outputs": [
    {
     "name": "stdout",
     "output_type": "stream",
     "text": [
      "✅Checking SOURCE directory...\n",
      "0.5 0.2 0.3\n",
      "✅Checking percentage validation...\n",
      "✅Making required directories...\n",
      "✅Shuffling data...\n",
      "✅Getting ready for copying files...\n",
      "\n",
      "-------------Successfully splitted !!!--------------- \n"
     ]
    }
   ],
   "source": [
    "python_splitter.split_from_folder(data_dir, train=0.5, test=0.3, val=0.2)"
   ]
  },
  {
   "cell_type": "code",
   "execution_count": null,
   "id": "63a42596",
   "metadata": {},
   "outputs": [],
   "source": []
  }
 ],
 "metadata": {
  "hide_input": false,
  "jupytext": {
   "formats": "ipynb,py:light"
  },
  "kernelspec": {
   "display_name": "Python 3 (ipykernel)",
   "language": "python",
   "name": "python3"
  },
  "language_info": {
   "codemirror_mode": {
    "name": "ipython",
    "version": 3
   },
   "file_extension": ".py",
   "mimetype": "text/x-python",
   "name": "python",
   "nbconvert_exporter": "python",
   "pygments_lexer": "ipython3",
   "version": "3.9.0"
  },
  "toc": {
   "base_numbering": 1,
   "nav_menu": {},
   "number_sections": true,
   "sideBar": true,
   "skip_h1_title": false,
   "title_cell": "Table of Contents",
   "title_sidebar": "Contents",
   "toc_cell": false,
   "toc_position": {},
   "toc_section_display": true,
   "toc_window_display": false
  }
 },
 "nbformat": 4,
 "nbformat_minor": 5
}
