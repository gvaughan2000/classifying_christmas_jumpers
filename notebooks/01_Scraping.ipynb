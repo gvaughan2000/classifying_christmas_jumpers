{
 "cells": [
  {
   "cell_type": "code",
   "execution_count": 2,
   "id": "2d2cb473",
   "metadata": {
    "scrolled": true
   },
   "outputs": [],
   "source": [
    "from jmd_imagescraper.core import * # dont't worry, it's designed to work with import *\n",
    "from pathlib import Path\n",
    "\n",
    "\n",
    "root = Path().cwd()/\"images\"\n",
    "\n",
    "folder = \"not square\"\n",
    "search_terms = \"Christmas sweater\"\n",
    "\n",
    "params = {\n",
    "    \"max_results\": 500,\n",
    "    \"img_type\":    ImgType.Transparent,\n",
    "    \"img_layout\":  ImgLayout.All,\n",
    "    \"img_color\":   ImgColor.All,\n",
    "    \"uuid_names\": True\n",
    "}\n",
    "\n",
    "#duckduckgo_search(root, folder, search_terms, **params)"
   ]
  },
  {
   "cell_type": "code",
   "execution_count": null,
   "id": "68b0009d",
   "metadata": {},
   "outputs": [],
   "source": []
  }
 ],
 "metadata": {
  "hide_input": false,
  "jupytext": {
   "formats": "ipynb,md,auto:light"
  },
  "kernelspec": {
   "display_name": "Python 3 (ipykernel)",
   "language": "python",
   "name": "python3"
  },
  "language_info": {
   "codemirror_mode": {
    "name": "ipython",
    "version": 3
   },
   "file_extension": ".py",
   "mimetype": "text/x-python",
   "name": "python",
   "nbconvert_exporter": "python",
   "pygments_lexer": "ipython3",
   "version": "3.9.0"
  },
  "toc": {
   "base_numbering": 1,
   "nav_menu": {},
   "number_sections": true,
   "sideBar": true,
   "skip_h1_title": false,
   "title_cell": "Table of Contents",
   "title_sidebar": "Contents",
   "toc_cell": false,
   "toc_position": {},
   "toc_section_display": true,
   "toc_window_display": false
  }
 },
 "nbformat": 4,
 "nbformat_minor": 5
}
